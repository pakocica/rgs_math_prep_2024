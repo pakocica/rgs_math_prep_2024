{
  "nbformat": 4,
  "nbformat_minor": 0,
  "metadata": {
    "colab": {
      "provenance": [],
      "authorship_tag": "ABX9TyPxSndJdpv6bv6hbgHaD2si",
      "include_colab_link": true
    },
    "kernelspec": {
      "name": "python3",
      "display_name": "Python 3"
    },
    "language_info": {
      "name": "python"
    },
    "widgets": {
      "application/vnd.jupyter.widget-state+json": {
        "4564ae63d29a45bc8963ea6832773f7f": {
          "model_module": "@jupyter-widgets/controls",
          "model_name": "VBoxModel",
          "model_module_version": "1.5.0",
          "state": {
            "_dom_classes": [
              "widget-interact"
            ],
            "_model_module": "@jupyter-widgets/controls",
            "_model_module_version": "1.5.0",
            "_model_name": "VBoxModel",
            "_view_count": null,
            "_view_module": "@jupyter-widgets/controls",
            "_view_module_version": "1.5.0",
            "_view_name": "VBoxView",
            "box_style": "",
            "children": [
              "IPY_MODEL_4d5694b4fe7c4de8a1a00288bc18665c",
              "IPY_MODEL_4a4267969dc04eb692744a08fa66491b",
              "IPY_MODEL_7dd88f53dd2e44358aa78eaaa2e7dac5"
            ],
            "layout": "IPY_MODEL_2846dfde7fcc4101b60a667f57c8f0c7"
          }
        },
        "4d5694b4fe7c4de8a1a00288bc18665c": {
          "model_module": "@jupyter-widgets/controls",
          "model_name": "FloatSliderModel",
          "model_module_version": "1.5.0",
          "state": {
            "_dom_classes": [],
            "_model_module": "@jupyter-widgets/controls",
            "_model_module_version": "1.5.0",
            "_model_name": "FloatSliderModel",
            "_view_count": null,
            "_view_module": "@jupyter-widgets/controls",
            "_view_module_version": "1.5.0",
            "_view_name": "FloatSliderView",
            "continuous_update": true,
            "description": "c",
            "description_tooltip": null,
            "disabled": false,
            "layout": "IPY_MODEL_b4b40725114e48778600a8a19bd5d45d",
            "max": 2,
            "min": -2,
            "orientation": "horizontal",
            "readout": true,
            "readout_format": ".2f",
            "step": 0.1,
            "style": "IPY_MODEL_a4cdfb0d83e54a3a9de31389c3677532",
            "value": -1.1
          }
        },
        "4a4267969dc04eb692744a08fa66491b": {
          "model_module": "@jupyter-widgets/controls",
          "model_name": "FloatSliderModel",
          "model_module_version": "1.5.0",
          "state": {
            "_dom_classes": [],
            "_model_module": "@jupyter-widgets/controls",
            "_model_module_version": "1.5.0",
            "_model_name": "FloatSliderModel",
            "_view_count": null,
            "_view_module": "@jupyter-widgets/controls",
            "_view_module_version": "1.5.0",
            "_view_name": "FloatSliderView",
            "continuous_update": true,
            "description": "n_max",
            "description_tooltip": null,
            "disabled": false,
            "layout": "IPY_MODEL_b7366983bfca4a24ad619c3592c8a86e",
            "max": 1000,
            "min": 50,
            "orientation": "horizontal",
            "readout": true,
            "readout_format": ".2f",
            "step": 50,
            "style": "IPY_MODEL_cc745c90dd484c6cb3be267a08398493",
            "value": 50
          }
        },
        "7dd88f53dd2e44358aa78eaaa2e7dac5": {
          "model_module": "@jupyter-widgets/output",
          "model_name": "OutputModel",
          "model_module_version": "1.0.0",
          "state": {
            "_dom_classes": [],
            "_model_module": "@jupyter-widgets/output",
            "_model_module_version": "1.0.0",
            "_model_name": "OutputModel",
            "_view_count": null,
            "_view_module": "@jupyter-widgets/output",
            "_view_module_version": "1.0.0",
            "_view_name": "OutputView",
            "layout": "IPY_MODEL_95546301e1ed4a7c9845f0a161ef1926",
            "msg_id": "",
            "outputs": [
              {
                "output_type": "display_data",
                "data": {
                  "text/plain": "<Figure size 640x480 with 1 Axes>",
                  "image/png": "iVBORw0KGgoAAAANSUhEUgAAAjcAAAHHCAYAAABDUnkqAAAAOXRFWHRTb2Z0d2FyZQBNYXRwbG90bGliIHZlcnNpb24zLjcuMSwgaHR0cHM6Ly9tYXRwbG90bGliLm9yZy/bCgiHAAAACXBIWXMAAA9hAAAPYQGoP6dpAABBL0lEQVR4nO3de3RU1fn/8c8kIQliMgRMMkFijKhgiNwvBkUUoeCiVLD1QqGAFlooVoTaavq1heAlaNVWa4uiLfgVEe8oKtTIHQlyiVgiFbkEgphABcmASOA3c35/8J3RIffkTM7MmfdrrVnLObPPzJ7DxHlm72c/22EYhiEAAACbiLK6AwAAAGYiuAEAALZCcAMAAGyF4AYAANgKwQ0AALAVghsAAGArBDcAAMBWCG4AAICtENwAAABbIbgBEBHGjx+vCy+8sN5tzz333OB2CEDQENwAQbJt2zb95Cc/UUZGhuLj43X++edr8ODB+utf/2p11yDpxIkTmjlzplatWmV1V5rV8ePHNWPGDA0dOlRt2rSRw+HQ/Pnz631+WVmZ7r33Xl177bVKSEiQw+GIuGuI0EdwAwTB+vXr1atXL33yySeaOHGinnrqKU2YMEFRUVF64oknrO5eRHr22We1Y8cO//0TJ04oLy8v4r6Yv/rqK82aNUv/+c9/1LVr1wafv2PHDj388MM6cOCALr/88iD0EGi6GKs7ANjRgw8+KKfTqU2bNql169YBjx06dMiaTkW4Fi1aWN2FkJCWlqaysjK5XC5t3rxZvXv3btD5PXv21OHDh9WmTRu99tpruummm4LUU6DxGLkBgmD37t3q3LlzlcBGklJSUqocW7BggXr27KmWLVuqTZs2uvXWW7V///4q7ebOnasOHTqoZcuW6tOnj9auXatrrrlG11xzjb/N/Pnz5XA4tHfv3oBzV61aVe0UwkcffaShQ4fK6XTqnHPO0YABA/Thhx8GtJk5c6YcDod27dql8ePHq3Xr1nI6nbrtttt04sSJat9Pnz59dM455ygpKUlXX3213n///YA2S5cuVf/+/dWqVSslJCRo2LBh+vTTT6s81/cdPXpU0dHRevLJJ/3HvvrqK0VFRalt27YyDMN/fPLkyXK5XP7738+52bt3r5KTkyVJeXl5cjgccjgcmjlzZsDrHThwQCNGjNC5556r5ORk3X333fJ4PLX28fvvb8CAAUpISFBiYqJ69+6thQsX1uvcYIqLiwu4Lg2VkJCgNm3amNgjwHwEN0AQZGRkaMuWLSouLq6z7YMPPqixY8fqkksu0eOPP6677rpLy5cv19VXX62jR4/62/3jH//QL3/5S7lcLj3yyCO68sor9aMf/ajaIKi+VqxYoauvvlput1szZszQQw89pKNHj2rgwIHauHFjlfY333yzjh07pvz8fN18882aP3++8vLyAtrk5eXpZz/7mVq0aKFZs2YpLy9P6enpWrFihb/NCy+8oGHDhuncc8/Vww8/rD/84Q/avn27rrrqqipB2fe1bt1a2dnZWrNmjf/YunXr5HA4dOTIEW3fvt1/fO3aterfv3+1z5OcnKw5c+ZIkkaOHKkXXnhBL7zwgm688UZ/G4/HoyFDhqht27Z69NFHNWDAAD322GOaO3du7RdVZwLMYcOG6ciRI8rNzdXs2bPVrVs3LVu2rNbzTp8+ra+++qpeN6/XW2c/gIhlADDd+++/b0RHRxvR0dFGTk6O8bvf/c7417/+ZZw6dSqg3d69e43o6GjjwQcfDDi+bds2IyYmxn/81KlTRkpKitGtWzejsrLS327u3LmGJGPAgAH+Y/PmzTMkGSUlJQHPuXLlSkOSsXLlSsMwDMPr9RqXXHKJMWTIEMPr9frbnThxwsjMzDQGDx7sPzZjxgxDknH77bcHPOfIkSONtm3b+u/v3LnTiIqKMkaOHGl4PJ6Atr7XOHbsmNG6dWtj4sSJAY+Xl5cbTqezyvGzTZkyxUhNTfXfnz59unH11VcbKSkpxpw5cwzDMIzDhw8bDofDeOKJJ/ztxo0bZ2RkZPjv//e//zUkGTNmzKjyGuPGjTMkGbNmzQo43r17d6Nnz5619u/o0aNGQkKC0bdvX+Pbb78NeOz717k6vn+j+tzO/vdtjE2bNhmSjHnz5jXq/FdffTXgMwWECkZugCAYPHiwCgsL9aMf/UiffPKJHnnkEQ0ZMkTnn3++3n77bX+7N954Q16vVzfffHPAr3KXy6VLLrlEK1eulCRt3rxZhw4d0qRJkxQbG+s/f/z48XI6nY3q49atW7Vz50799Kc/1eHDh/2v/c033+i6667TmjVrqowOTJo0KeB+//79dfjwYbndbknS4sWL5fV69cc//lFRUYH/e3E4HJKkgoICHT16VKNGjQp4z9HR0erbt6//Pdekf//+OnjwoD85eO3atbr66qvVv39/rV27VtKZ0RzDMGocuamv6t7vnj17aj2noKBAx44d07333qv4+PiAx3zXoCZdu3ZVQUFBvW5NmVoC7I6EYiBIevfurTfeeEOnTp3SJ598ojfffFN//vOf9ZOf/ERbt25VVlaWdu7cKcMwdMkll1T7HL4k2H379klSlXYtWrTQRRdd1Kj+7dy5U5I0bty4GttUVFQoKSnJf/+CCy4IeNz32Ndff63ExETt3r1bUVFRysrKqvN1Bw4cWO3jiYmJtfbbF7CsXbtW7du318cff6wHHnhAycnJevTRR/2PJSYmNmo1kE98fLw/L8cnKSlJX3/9da3n7d69W5KUnZ3d4NdMSkrSoEGDGnze2Twej/773/8GHGvTpk1AYAzYGcENEGSxsbHq3bu3evfurUsvvVS33XabXn31Vc2YMUNer1cOh0NLly5VdHR0lXMbU0iuptGBsxNhfaMyf/rTn9StW7dqzzn79avro6SARN66+F73hRdeqHb0ISam9v8ttWvXTpmZmVqzZo0uvPBCGYahnJwcJScna+rUqdq3b5/Wrl2rfv36VRk9aoia3mswnTp1SkeOHKlX2+Tk5Br7uH//fmVmZgYcW7lyZUDiOWBnBDdAM+rVq5ekM4XQJKlDhw4yDEOZmZm69NJLazwvIyND0plRj++PeJw+fVolJSUBIxS+0ZTvJyNL343++HTo0EHSmZESM0YLfM/p9Xq1ffv2GgMm3+umpKQ0+nX79++vNWvWKDMzU926dVNCQoK6du0qp9OpZcuWqaioqEqi89nqmiJqLN/7Ky4u1sUXX9ygc9evX69rr722Xm1LSkpqrLjscrlUUFAQcKwpo1hAuCHnBgiClStXVjua8d5770mSOnbsKEm68cYbFR0drby8vCrtDcPQ4cOHJZ0JipKTk/X000/r1KlT/jbz58+vEsT4vly/v6LI4/FUWeXTs2dPdejQQY8++qiOHz9epa9nT2vUx4gRIxQVFaVZs2ZVydfxvb8hQ4YoMTFRDz30kE6fPt2o1+3fv7/27t2rl19+2T9NFRUVpX79+unxxx/X6dOn68y3OeeccyRVDQKb6gc/+IESEhKUn5+vkydPBjxW1wiXWTk38fHxGjRoUMDt+9OL9VVWVqbPPvus2n8nIJQxcgMEwa9//WudOHFCI0eOVKdOnXTq1CmtX79eL7/8si688ELddtttks4EIg888IByc3O1d+9ejRgxQgkJCSopKdGbb76pX/ziF7r77rvVokULPfDAA/rlL3+pgQMH6pZbblFJSYnmzZtXJeemc+fOuuKKK5Sbm6sjR46oTZs2WrRokf7f//t/Ae2ioqL03HPP6frrr1fnzp1122236fzzz9eBAwe0cuVKJSYmasmSJQ163xdffLH+53/+R/fff7/69++vG2+8UXFxcdq0aZPatWun/Px8JSYmas6cOfrZz36mHj166NZbb1VycrJKS0v17rvv6sorr9RTTz1V6+v4ApcdO3booYce8h+/+uqrtXTpUsXFxdVZnK5ly5bKysrSyy+/rEsvvVRt2rRRdnZ2o3Jlvi8xMVF//vOfNWHCBPXu3Vs//elPlZSUpE8++UQnTpzQ888/X+O5ZuXc1OWpp57S0aNH9eWXX0qSlixZoi+++ELSmc+uL0k9NzdXzz//fJVRogceeECS/HWJXnjhBa1bt06SdN999wW9/0CdrFqmBdjZ0qVLjdtvv93o1KmTce655xqxsbHGxRdfbPz61782Dh48WKX966+/blx11VVGq1atjFatWhmdOnUypkyZYuzYsSOg3d///ncjMzPTiIuLM3r16mWsWbPGGDBgQMBScMMwjN27dxuDBg0y4uLijNTUVOP3v/+9UVBQUO2y3Y8//ti48cYbjbZt2xpxcXFGRkaGcfPNNxvLly/3t/EtBf/vf/8bcG5Ny87/+c9/Gt27dzfi4uKMpKQkY8CAAUZBQUFAm5UrVxpDhgwxnE6nER8fb3To0MEYP368sXnz5npd45SUFENSwPVct26dIcno379/lfZnLwU3DMNYv3690bNnTyM2NjZgWfi4ceOMVq1aVXkO33Woj7ffftvo16+f0bJlSyMxMdHo06eP8dJLL9Xr3GDLyMio1xJz35L4s/99azqXrxSECodhNCATEEDI8SWJRtoeSQBQE3JuAACArRDcAAAAWyG4AQAAtkLODQAAsBVGbgAAgK0Q3AAAAFuJuCJ+Xq9XX375pRISEoJWfh0AAJjLMAwdO3ZM7dq1q3PfuIgLbr788kulp6db3Q0AANAI+/fvV/v27WttE3HBTUJCgqQzFycxMdHi3gAAgPpwu91KT0/3f4/XxtLgxuPxaObMmVqwYIHKy8vVrl07jR8/Xvfdd1+tU0arVq3S9OnT9emnnyo9PV333Xefxo8fX6/X9D1vYmIiwQ0AAGGmPikllgY3Dz/8sObMmaPnn39enTt31ubNm3XbbbfJ6XTqzjvvrPackpISDRs2TJMmTdKLL76o5cuXa8KECUpLS9OQIUOa+R0AAIBQY2mdmx/+8IdKTU3VP/7xD/+xH//4x2rZsqUWLFhQ7Tn33HOP3n33XRUXF/uP3XrrrTp69KiWLVtW52u63W45nU5VVFQwcgMAQJhoyPe3pUvB+/Xrp+XLl+vzzz+XJH3yySdat26drr/++hrPKSws1KBBgwKODRkyRIWFhUHtKwAACA+WTkvde++9crvd6tSpk6Kjo+XxePTggw9q9OjRNZ5TXl6u1NTUgGOpqalyu9369ttv1bJly4DHKisrVVlZ6b/vdrvNfRMAACCkWDpy88orr+jFF1/UwoULVVRUpOeff16PPvqonn/+edNeIz8/X06n039jGTgAAPZmaXDz29/+Vvfee69uvfVWXX755frZz36madOmKT8/v8ZzXC6XDh48GHDs4MGDSkxMrDJqI0m5ubmqqKjw3/bv32/6+wAAAKHD0mmpEydOVKkyGB0dLa/XW+M5OTk5eu+99wKOFRQUKCcnp9r2cXFxiouLa3pnAQBAWLB05Gb48OF68MEH9e6772rv3r1688039fjjj2vkyJH+Nrm5uRo7dqz//qRJk7Rnzx797ne/02effaa///3veuWVVzRt2jQr3gIAAAgxlo7c/PWvf9Uf/vAH/epXv9KhQ4fUrl07/fKXv9Qf//hHf5uysjKVlpb672dmZurdd9/VtGnT9MQTT6h9+/Z67rnnqHEDAAAkWVznxgrUuQEAIDg8XkMbS47o0LGTSkmIV5/MNoqOMmeT6oZ8f0fc3lIAAMB8y4rLlLdku8oqTvqPpTnjNWN4loZmpzVrXyzNuQEAAOFvWXGZJi8oCghsJKm84qQmLyjSsuKyZu0PwQ0AAGg0j9dQ3pLtqi7HxXcsb8l2ebzNlwVDcAMAABptY8mRKiM232dIKqs4qY0lR5qtTwQ3AACg0Q4dqzmwaUw7MxDcAACARktJiDe1nRkIbgAAQKP1yWyjNGe8alrw7dCZVVN9Mts0W58IbgAAQKNFRzk0Y3iWJFUJcHz3ZwzPMq3eTX0Q3AAAgCYZmp2mOWN6yOUMnHpyOeM1Z0yPZq9zQxE/AADQZEOz0zQ4yxW0CsUNQXADAABMER3lUE6HtlZ3g2kpAABgLwQ3AADAVghuAACArRDcAAAAWyG4AQAAtkJwAwAAbIXgBgAA2ArBDQAAsBWCGwAAYCsENwAAwFYIbgAAgK0Q3AAAAFshuAEAALbCruAAAEQwj9fQxpIjOnTspFIS4tUns42ioxxWd6tJCG4AAIhQy4rLlLdku8oqTvqPpTnjNWN4loZmp1nYs6ZhWgoAgAi0rLhMkxcUBQQ2klRecVKTFxRpWXGZRT1rOoIbAAAijMdrKG/JdhnVPOY7lrdkuzze6lqEPoIbAAAizMaSI1VGbL7PkFRWcVIbS440X6dMRHADAECEOXSs5sCmMe1CDcENAAARJiUh3tR2oYbgBgCACNMns43SnPGqacG3Q2dWTfXJbNOc3TKNpcHNhRdeKIfDUeU2ZcqUatvPnz+/Stv4+PCMKgEAsEp0lEMzhmdJUpUAx3d/xvCssK13Y2mdm02bNsnj8fjvFxcXa/DgwbrppptqPCcxMVE7duzw33c4wvPCAwBgpaHZaZozpkeVOjcuG9S5sTS4SU5ODrg/e/ZsdejQQQMGDKjxHIfDIZfLFeyuAQBge0Oz0zQ4y0WF4mA5deqUFixYoOnTp9c6GnP8+HFlZGTI6/WqR48eeuihh9S5c+ca21dWVqqystJ/3+12m9pvAADCWXSUQzkd2lrdDVOFTELx4sWLdfToUY0fP77GNh07dtQ///lPvfXWW1qwYIG8Xq/69eunL774osZz8vPz5XQ6/bf09PQg9B4AAIQKh2EYIVF+cMiQIYqNjdWSJUvqfc7p06d12WWXadSoUbr//vurbVPdyE16eroqKiqUmJjY5H4DAIDgc7vdcjqd9fr+DolpqX379umDDz7QG2+80aDzWrRooe7du2vXrl01tomLi1NcXFxTuwgAAMJESExLzZs3TykpKRo2bFiDzvN4PNq2bZvS0sI3oxsAAJjL8uDG6/Vq3rx5GjdunGJiAgeSxo4dq9zcXP/9WbNm6f3339eePXtUVFSkMWPGaN++fZowYUJzdxsAAIQoy6elPvjgA5WWlur222+v8lhpaamior6Lv77++mtNnDhR5eXlSkpKUs+ePbV+/XplZWU1Z5cBAEAIC5mE4ubSkIQkAAAQGhry/W35tBQAAICZCG4AAICtWJ5zAwAAGsbjNWy3ZYKZCG4AAAgjy4rLqmx2mWaDzS7NxLQUAABhYllxmSYvKAoIbCSpvOKkJi8o0rLiMot6FloIbgAACAMer6G8JdtV3RJn37G8Jdvl8UbUIuhqEdwAABAGNpYcqTJi832GpLKKk9pYcqT5OhWiCG4AAAgDh47VHNg0pp2dEdwAABAGUhLiTW1nZwQ3AACEgT6ZbZTmjFdNC74dOrNqqk9mm+bsVkgiuAEAIAxERzk0Y/iZvRTPDnB892cMz6LejQhuAAAIG0Oz0zRnTA+5nIFTTy5nvOaM6UGdm/9DET8AAMLI0Ow0Dc5yUaG4FgQ3AACEmegoh3I6tLW6GyGLaSkAAGArBDcAAMBWCG4AAICtENwAAABbIbgBAAC2QnADAABsheAGAADYCnVuAABoBh6vQeG9ZkJwAwBAkC0rLlPeku0qqzjpP5bmjNeM4VlsmRAETEsBABBEy4rLNHlBUUBgI0nlFSc1eUGRlhWXWdQz+yK4AQAgSDxeQ3lLtsuo5jHfsbwl2+XxVtcCjUVwAwBAkGwsOVJlxOb7DEllFSe1seRI83UqAhDcAAAQJIeO1RzYNKYd6ofgBgCAIElJiDe1HeqH4AYAgCDpk9lGac541bTg26Ezq6b6ZLZpzm7ZHsENAABBEh3l0IzhWZJUJcDx3Z8xPIt6NyYjuAEAIIiGZqdpzpgecjkDp55cznjNGdODOjdBYGlwc+GFF8rhcFS5TZkypcZzXn31VXXq1Enx8fG6/PLL9d577zVjjwEAaLih2Wlad89AvTTxCj1xaze9NPEKrbtnIIFNkFhaoXjTpk3yeDz++8XFxRo8eLBuuummatuvX79eo0aNUn5+vn74wx9q4cKFGjFihIqKipSdnd1c3QYAoMGioxzK6dDW6m5EBIdhGCFTOeiuu+7SO++8o507d8rhqDr/eMstt+ibb77RO++84z92xRVXqFu3bnr66afr9Rput1tOp1MVFRVKTEw0re8AACB4GvL9HTI5N6dOndKCBQt0++23VxvYSFJhYaEGDRoUcGzIkCEqLCxsji4CAIAwEDIbZy5evFhHjx7V+PHja2xTXl6u1NTUgGOpqakqLy+v8ZzKykpVVlb677vd7ib3FQAAhK6QGbn5xz/+oeuvv17t2rUz9Xnz8/PldDr9t/T0dFOfHwAAhJaQCG727dunDz74QBMmTKi1ncvl0sGDBwOOHTx4UC6Xq8ZzcnNzVVFR4b/t37/flD4DACKDx2uocPdhvbX1gAp3H2aTyzAQEtNS8+bNU0pKioYNG1Zru5ycHC1fvlx33XWX/1hBQYFycnJqPCcuLk5xcXFmdRUAEEGWFZcpb8n2gM0v05zxmjE8i2XcIczykRuv16t58+Zp3LhxiokJjLXGjh2r3Nxc//2pU6dq2bJleuyxx/TZZ59p5syZ2rx5s+64447m7jYAwOaWFZdp8oKiKrt6l1ec1OQFRVpWXGZRz1AXy4ObDz74QKWlpbr99turPFZaWqqysu8+PP369dPChQs1d+5cde3aVa+99poWL15MjRsAgKk8XkN5S7arugko37G8JduZogpRIVXnpjlQ5wYAUJfC3Yc16tkNdbZ7aeIVFOZrJmFZ5wYAgFBx6NjJuhs1oB2aF8ENAABnSUmIr7tRA9qheRHcAABwlj6ZbZTmjFf19fIlh86smuqT2aY5u4V6IrgBAOAs0VEOzRieJUlVAhzf/RnDsxQdVVP4AysR3AAAUI2h2WmaM6aHXM7AqSeXM15zxvSgzk0IC4kifgAAhKKh2WkanOXSxpIjOnTspFISzkxFMWIT2ghuAACoRXSUg+XeYYZpKQAAYCuM3AAAbMfjNZhKimAENwAAW2GzSzAtBQCwDTa7hERwAwCwCTa7hA/BDQDAFjaWHKkyYvN9hqSyipPaWHKk+ToFSxDcAABsgc0u4UNwAwCwBTa7hA/BDQDAFtjsEj4ENwAAW2CzS/gQ3AAAbIPNLiFRxA8AYDNsdgmCGwCA7bDZZWQjuAEAhAT2g4JZCG4AAJZjPyiYiYRiAICl2A8KZiO4AQBYhv2gEAwENwAAy7AfFIKB4AYAYBn2g0IwENwAACzDflAIBoIbAIBl2A8KwUBwAwCwDPtBIRgIbgAAlmI/KJiNIn4AAMuxHxTMRHADAGg0M7dMYD8omMXyaakDBw5ozJgxatu2rVq2bKnLL79cmzdvrrH9qlWr5HA4qtzKy8ubsdcAgGXFZbrq4RUa9ewGTV20VaOe3aCrHl5BRWFYztKRm6+//lpXXnmlrr32Wi1dulTJycnauXOnkpKS6jx3x44dSkxM9N9PSUkJZlcBAN/j2zLh7LrBvi0TyJWBlSwNbh5++GGlp6dr3rx5/mOZmZn1OjclJUWtW7cOUs8AADWpa8sEh85smTA4y0XODCxh6bTU22+/rV69eummm25SSkqKunfvrmeffbZe53br1k1paWkaPHiwPvzwwxrbVVZWyu12B9wAAI3HlgkIdZYGN3v27NGcOXN0ySWX6F//+pcmT56sO++8U88//3yN56Slpenpp5/W66+/rtdff13p6em65pprVFRUVG37/Px8OZ1O/y09PT1YbwcAIgJbJiDUOQzDsGyr1djYWPXq1Uvr16/3H7vzzju1adMmFRYW1vt5BgwYoAsuuEAvvPBClccqKytVWVnpv+92u5Wenq6KioqAnB0AQP0U7j6sUc9uqLPdSxOvYPUTTON2u+V0Ouv1/W3pyE1aWpqysrICjl122WUqLS1t0PP06dNHu3btqvaxuLg4JSYmBtwAAI3HlgkIdZYGN1deeaV27NgRcOzzzz9XRkZGg55n69atSksjKx8AmgNbJiDUWbpaatq0aerXr58eeugh3Xzzzdq4caPmzp2ruXPn+tvk5ubqwIED+t///V9J0l/+8hdlZmaqc+fOOnnypJ577jmtWLFC77//vlVvAwDCihmF93xbJuQt2R6QXOxyxmvG8CyWgcNSlgY3vXv31ptvvqnc3FzNmjVLmZmZ+stf/qLRo0f725SVlQVMU506dUq/+c1vdODAAZ1zzjnq0qWLPvjgA1177bVWvAUACCvLisuqBCRpjQxI2DIBocrShGIrNCQhCQDspKbCe75QhMJ7CGVhk1AMAGgedRXek84U3vN4I+r3LmyK4AYAIgCF9xBJCG4AIAJQeA+RhOAGACJASkK8qe2AUEZwAwARgMJ7iCQENwAQJjxeQ4W7D+utrQdUuPtwg5J/KbyHSGJpnRsAQP2YUZ+GwnuIFNS5AYAQZ3Z9GjMqFAPNrSHf34zcAEAIq6s+jUNn6tMMznLVO0CJjnKwWzdsjZwbAAhh1KcBGo7gBgBCGPVpgIYjuAGAEEZ9GqDhyLkBgCBqavKurz5NecXJavNuHDqz2on6NMB3CG4AIEjMWL7tq08zeUGRHFJAgEN9GqB6TEsBQBD4lm+fnQxcXnFSkxcUaVlxWb2fy1efxuUMnHpyOeMbvAwciASM3ACAyYKxfHtodpoGZ7moTwPUA8ENAJisIcu3G1Jvhvo0QP0wLQUAJmP5NmAtghsAMBnLtwFrMS0FAGdh+TYQ3ghuAOB7WL4NhD+mpQDg/7B8G7AHRm4AQCzfBuyE4AYAxPJtwE6YlgIAsXwbsBNGbgDYQlNXOLF8G7APghsAYc+MFU4s3wbsg2kpAGHNrBVOvuXb0nfLtX1Yvg2EF4IbAGGrrhVO0pkVTh5vdS2qYvk2YA9MSwEIW8FY4cTybSD8EdwACFvBWuHE8m0gvFk+LXXgwAGNGTNGbdu2VcuWLXX55Zdr8+bNtZ6zatUq9ejRQ3Fxcbr44os1f/785uksAFN5vIYKdx/WW1sPqHD34XpPH/mwwglAdSwdufn666915ZVX6tprr9XSpUuVnJysnTt3KikpqcZzSkpKNGzYME2aNEkvvviili9frgkTJigtLU1Dhgxpxt4DaApWOAEIFodhGA37qWSie++9Vx9++KHWrl1b73PuuecevfvuuyouLvYfu/XWW3X06FEtW7aszvPdbrecTqcqKiqUmJjYqH4DaBrfCqez/+fjy2ppSPKu77mk6jeoJBEYsIeGfH83elrK6/Xq888/17p167RmzZqAW329/fbb6tWrl2666SalpKSoe/fuevbZZ2s9p7CwUIMGDQo4NmTIEBUWFlbbvrKyUm63O+AGwDqscAIQbI2altqwYYN++tOfat++fTp74MfhcMjj8dTrefbs2aM5c+Zo+vTp+v3vf69NmzbpzjvvVGxsrMaNG1ftOeXl5UpNTQ04lpqaKrfbrW+//VYtW7YMeCw/P195eXkNeHcAgokVTgCCrVHBzaRJk9SrVy+9++67SktLk8PRuP+BeL1e9erVSw899JAkqXv37iouLtbTTz9dY3DTULm5uZo+fbr/vtvtVnp6uinPDUSqpmx1wAonAMHWqOBm586deu2113TxxRc36cXT0tKUlZUVcOyyyy7T66+/XuM5LpdLBw8eDDh28OBBJSYmVhm1kaS4uDjFxcU1qZ8AvtPURGBWOAEItkbl3PTt21e7du1q8otfeeWV2rFjR8Cxzz//XBkZGTWek5OTo+XLlwccKygoUE5OTpP7A6B2Zmx14FvhVNM4j0NngiVWOAForEYFN7/+9a/1m9/8RvPnz9eWLVv073//O+BWX9OmTdOGDRv00EMPadeuXVq4cKHmzp2rKVOm+Nvk5uZq7Nix/vuTJk3Snj179Lvf/U6fffaZ/v73v+uVV17RtGnTGvNWANSTWYnA7OEEINgatRQ8KqpqTORwOGQYRoMSiiXpnXfeUW5urnbu3KnMzExNnz5dEydO9D8+fvx47d27V6tWrfIfW7VqlaZNm6bt27erffv2+sMf/qDx48fX6/VYCg40TuHuwxr17IY627008Yp65b6YUecGQORoyPd3o4Kbffv21fp4bdNKViO4ARrnra0HNHXR1jrbPXFrN93Q7fx6PWdTEpMBRJaGfH83KqG4vsHLsGHD9NxzzyktjV9hgNWaGkgEIxGYFU4AgiGo2y+sWbNG3377bTBfAkA9sNUBgEhi+caZAILLjBVOEonAAMIHwQ1gY2x1ACASWborOIDgYqsDAJGI4AYIYU1NAmarAwCRiOAGCFFmJAGz1QGASNSk4Gb79u0qLS3VqVOnAo7/6Ec/kiT9/ve/V5s2rJwAGsqXBHx2JowvCbi++S2scAIQiRpVxG/Pnj0aOXKktm3b5q9MLMm/O3hDKhQ3N4r4IdR5vIauenhFjbkyvoBk3T0D6zVF5QuUJAUEOL4zSQQGEA4a8v3dqNVSU6dOVWZmpg4dOqRzzjlHn376qdasWaNevXoFbJMAoOEakgRcH6xwAhBpGjUtVVhYqBUrVui8885TVFSUoqKidNVVVyk/P1933nmnPv74Y7P7CUSMYCQBs8IJQCRpVHDj8XiUkJAgSTrvvPP05ZdfqmPHjsrIyNCOHTtM7SAQbkJxmwOJFU4AIkejgpvs7Gx98sknyszMVN++ffXII48oNjZWc+fO1UUXXWR2H4GwwTYHAGC9RuXc3HffffJ6vZKkWbNmqaSkRP3799d7772nJ5980tQOAuGCbQ4AIDQ0arVUdY4cOaKkpCT/iqlQxWopBIPZK5wkc0aBAMAuGvL9bVoRP+rZIJKxzQEAhA4qFAMmYJsDAAgd7AoOmIBtDgAgdDByA/yfpizhZoUTAIQOghtATU/e9a1wmrygSA5Vv80BK5wAoHkwLYWIZ9YSbrY5AIDQwMgNIprHayhvyfZqp5IMnRl1yVuyXYOzXPUadWGFEwBYj+AGES0YS7hZ4QQA1mJaChEtWEu4AQDWIbhBRGMJNwDYD8ENIppvCXdNGTEOnVk1xRJuAAgfBDcIax6vocLdh/XW1gMq3H1YHm/Dtkpjk0oAsB8SihG2zNpY0reE++zncrFJJQCEJdN2BQ8X7ApuD77aNGd/eH3jK42pK9OUCsUAgOCyZFdwoLmYXZvGhyXcAGAP5Nwg7DSkNg0AIPIQ3CDsUJsGAFAbS4ObmTNnyuFwBNw6depUY/v58+dXaR8fT/2RSENtGgBAbSzPuencubM++OAD//2YmNq7lJiYqB07dvjvOxwkfEYaX22a8oqT1ebdOHRmpRO1aQAgMlke3MTExMjlctW7vcPhaFB72I+vNs3kBUVySAEBDrVpAACW59zs3LlT7dq100UXXaTRo0ertLS01vbHjx9XRkaG0tPTdcMNN+jTTz+ttX1lZaXcbnfADdZqauE96bvaNC5n4NSTyxnfqGXgAAD7sLTOzdKlS3X8+HF17NhRZWVlysvL04EDB1RcXKyEhIQq7QsLC7Vz50516dJFFRUVevTRR7VmzRp9+umnat++fbWvMXPmTOXl5VU5Tp0ba5hVeM+H2jQAEBkaUucmpIr4HT16VBkZGXr88cf185//vM72p0+f1mWXXaZRo0bp/vvvr7ZNZWWlKisr/ffdbrfS09MJbiwQjMJ7AIDIELZF/Fq3bq1LL71Uu3btqlf7Fi1aqHv37rW2j4uLU1xcnFldRCMFq/AeAABnszzn5vuOHz+u3bt3Ky2tfr/ePR6Ptm3bVu/2sA6F9wAAzcXS4Obuu+/W6tWrtXfvXq1fv14jR45UdHS0Ro0aJUkaO3ascnNz/e1nzZql999/X3v27FFRUZHGjBmjffv2acKECVa9BdQThfcAAM3F0mmpL774QqNGjdLhw4eVnJysq666Shs2bFBycrIkqbS0VFFR38VfX3/9tSZOnKjy8nIlJSWpZ8+eWr9+vbKysqx6C6gnCu8BAJpLSCUUNwd2BbeGx2voqodX1Fl4b909A8m5AQBU0ZDv75DKuYF9+QrvSd+tjvKh8B4AwEwEN2g2FN4DADSHkFoKDvsbmp2mwVkuCu8BAIKG4AbNLjrKoZwOba3uBgDApghuABswaxsKM7ezYGsMAFYhuEG98EUVuszar8vMfb/YQwyAlVgKjjqZ/UWFM8z4wjZrvy4z9/0yew8xPn8ApDDeOLM5ENw0DJtdBocZX9i+2kE1bWtR39pBZj2P2c8lBefzxygQEJ6ocwNT1LXZpXRms0uPN6Li4ybzfWGfHQCUV5zU5AVFWlZcVq/nMWu/LjP3/TLzuYLx+VtWXKarHl6hUc9u0NRFWzXq2Q266uEV9b7mAMIDwQ1qxGaXVXm8hgp3H9ZbWw+ocPfhBgd2Zn5hm7Vfl5n7fpn5XGZ//swKKgGEPhKKUSM2uwxkxlRSQ76w61oub9Z+XWbu+2Xmc5n5+asrqHToTFA5OMtV7ykqpreA0EVwgxqx2eV3asr98P3qr2/uh5lf2H0y2yjNGV/nfl19Mts0y/OY/Vxmfv7MDColkpyBUMe0FGrk+6Kq6beoQ2f+h16fL6pwZuZUkplf2Gbt12Xmvl9mPpeZnz8zg0qmt4DQR3CDGrHZ5Rlm5n6YHTCatV+Xmft+mfVcZn7+zAoqg5Vk39RcLgCBmJZCrXxfVGcPwbvCaAi+qbkRZv7q931hT15QJIcU8CXZ2IDRrP26zNz3y8w+mfH5M2u6zOzpLYkpLiAYCG5Qp3De7NKMLw6zc4+CETCatV+Xmft+mfVcZnz+zAoqzU6yNyuXC0AgghvUSzhudmnWF4eZSbI+4RwwWsGMz58ZQaWZgW4wVnABOIPgBrZk5hdHMKaSfM8bbgFjuGtqUGlmoBuMKS4AZ5BQDFsyuwCcmQm3sJYvqLyh2/nK6dC2UdNbUtOTnINVR4rkZICRG9hUML44mEqCZF7OVDDqSJGcDJxBcANbClYBQqaSIJkT6Jqdy0VyMvAdpqUQkpo6tE4BQgRbU6a3fOebNcXFJrdAIEZuEHLMGFoPVhIwYCazprhITgYCEdwgpJg5tG6HAoSwPzOmuNjkFghEcGNj4bZrcTDqfpAEjHDQ1FwuNrkFAhHc2FQ4rpoI1tA6ScCwu2AUmpTC7wcS4ENwY0PhumqCoXWgcYKRYxaOP5AAH1ZL2Uw4r5pgaB1oPDMLTfp+IJ09kur7gbSsuMyUPgPBwsiNzYTzqolgDa0DkcKMHDP2vIIdMHJjM+E8tWNm3Q8gUjW1/o7ZW5cAViC4sZlwn9phDyfAWuH8AwnwsTS4mTlzphwOR8CtU6dOtZ7z6quvqlOnToqPj9fll1+u9957r5l6Gx6srsxrxqZ9Q7PTtO6egXpp4hV64tZuemniFVp3z0ACG6AZhPsPJEAKgZybzp0764MPPvDfj4mpuUvr16/XqFGjlJ+frx/+8IdauHChRowYoaKiImVnZzdHd0OelZV5zVxdwfJtwBosK4cdOAzDsGzZzMyZM7V48WJt3bq1Xu1vueUWffPNN3rnnXf8x6644gp169ZNTz/9dL2ew+12y+l0qqKiQomJiY3pdlho7mWcNS0/9/2viyklIHz4/p6l6n8gNWb1FcvK0VQN+f62fORm586dateuneLj45WTk6P8/HxdcMEF1bYtLCzU9OnTA44NGTJEixcvrvH5KysrVVlZ6b/vdrtN6Xeoa87KvKyuAOzFzK1LwrXuFsKbpcFN3759NX/+fHXs2FFlZWXKy8tT//79VVxcrISEhCrty8vLlZqaGnAsNTVV5eXlNb5Gfn6+8vLyTO97OGiuqZ1wXn4OoHosK0c4szS4uf766/3/3aVLF/Xt21cZGRl65ZVX9POf/9yU18jNzQ0Y7XG73UpPTzfluXEGqysAe2rqDyR++MAqlk9LfV/r1q116aWXateuXdU+7nK5dPDgwYBjBw8elMvlqvE54+LiFBcXZ2o/EYjVFQCqww8fWCWk6twcP35cu3fvVlpa9fOvOTk5Wr58ecCxgoIC5eTkNEf3UAOrl58DCE388IFVLA1u7r77bq1evVp79+7V+vXrNXLkSEVHR2vUqFGSpLFjxyo3N9fffurUqVq2bJkee+wxffbZZ5o5c6Y2b96sO+64w6q3AFFZGED1+OEDq1ga3HzxxRcaNWqUOnbsqJtvvllt27bVhg0blJycLEkqLS1VWdl3G7T169dPCxcu1Ny5c9W1a1e99tprWrx4MTVuQgCVhQGcjR8+sIqldW6sECl1bqxCoS4AZ6PODczQkO9vghsAQNCZ9cOHH1CRK6yK+AEA7M+MuluMAKG+Qmq1FAAA1fFVOj67bo6v0vGy4rIazkQkIrgBAIS0uiodS2cqHXu8EZVlgVoQ3AAAQlpDKh0DEjk3EAl6AEIblY7RUAQ3EY4EPQChjkrHaCimpSIYCXoAwgGVjtFQBDcRigQ9AOGCSsdoKIKbCEWCHoBwwhYvaAhybiIUCXoAws3Q7DQNznKxAAJ1IriJUCToAQhHZlQ69mGlqH0R3ISg5viD8yXolVecrDbvxqEzw70k6AGwI1aK2hvBTYhprj84X4Le5AVFckgBAQ4JegDszLdS9Owfdr6VouTwhD8SikNIcy/NJkEPQKRhpWhkYOQmRNT1B+fQmT+4wVkuU0dTSNADEEkaslLUrNweND+CmxBh5R+cmQl6ABDKWCkaGZiWChH8wQFA8LFSNDIQ3IQI/uAAIPjYyiEyENyECP7gACD42MohMhDchAj+4ACgebBS1P4chmFE1Ho3t9stp9OpiooKJSYmWt2dKigsBQDNgwrF4aUh398ENyGIPzgAAAI15PubpeAhiKXZAAA0HsENAABNxIh7aCG4AQCgCciVDD2slgIAoJGae09A1A/BDQAAjcAmnKGL4AYAgEZoyJ6AaF4ENwAANAJ7AoYuEorDFJn5AGAt9gQMXQQ3YYjMfACwnm9PwPKKk9Xm3Th0ZksH9gRsfiEzLTV79mw5HA7dddddNbaZP3++HA5HwC0+PrIiYjLzASA0sCdg6AqJ4GbTpk165pln1KVLlzrbJiYmqqyszH/bt29fM/QwNJCZDwChhU04Q5Pl01LHjx/X6NGj9eyzz+qBBx6os73D4ZDL5WqGnoWehmTms30DADSPodlpGpzlIg8yhFg+cjNlyhQNGzZMgwYNqlf748ePKyMjQ+np6brhhhv06aef1tq+srJSbrc74BauyMwHgNDk2xPwhm7nK6dDWwIbi1ka3CxatEhFRUXKz8+vV/uOHTvqn//8p9566y0tWLBAXq9X/fr10xdffFHjOfn5+XI6nf5benq6Wd1vdmTmAwBQN8uCm/3792vq1Kl68cUX650UnJOTo7Fjx6pbt24aMGCA3njjDSUnJ+uZZ56p8Zzc3FxVVFT4b/v37zfrLTQ7X2Z+Tb8HHDqzaorMfABAJLMsuNmyZYsOHTqkHj16KCYmRjExMVq9erWefPJJxcTEyOPx1PkcLVq0UPfu3bVr164a28TFxSkxMTHgFq7IzAcAoG6WBTfXXXedtm3bpq1bt/pvvXr10ujRo7V161ZFR0fX+Rwej0fbtm1TWlrkZKOTmQ8A9ubxGircfVhvbT2gwt2HWQHbCJatlkpISFB2dnbAsVatWqlt27b+42PHjtX555/vz8mZNWuWrrjiCl188cU6evSo/vSnP2nfvn2aMGFCs/ffSmTmA4A9UaTVHJYvBa9NaWmpoqK+G1z6+uuvNXHiRJWXlyspKUk9e/bU+vXrlZWVZWEvreHLzAcA2IOvSOvZ4zS+Iq2MztefwzCMiBrvcrvdcjqdqqioCOv8GwCAfXi8hq56eEWNtcx8Wzmsu2dgxI7SN+T72/I6NwAARLqGFGlF3QhuAACwGEVazUVwAwCAxSjSai6CGwAALEaRVnMR3AAAYDGKtJqL4AYAgBBAkVbzhHSdGwAAIglFWs1BcAMAQAihSGvTMS0FAABsheAGAADYCsENAACwFYIbAABgKwQ3AADAVghuAACArRDcAAAAW6HODQAANuXxGhFZEJDgBgAAG1pWXKa8JdtVVnHSfyzNGa8Zw7Nsv5UD01IAANjMsuIyTV5QFBDYSFJ5xUlNXlCkZcVlFvWseRDcAABgIx6vobwl22VU85jvWN6S7fJ4q2thDwQ3AADYyMaSI1VGbL7PkFRWcVIbS440X6eaGcENAAA2cuhYzYFNY9qFI4IbAABsJCUh3tR24YjgBgAAG+mT2UZpznjVtODboTOrpvpktmnObjUrghsAAGwkOsqhGcOzJKlKgOO7P2N4lq3r3RDcAABgM0Oz0zRnTA+5nIFTTy5nvOaM6WH7OjcU8QMAwIaGZqdpcJaLCsUAAMA+oqMcyunQ1upuNDumpQAAgK0wcmOSSN2cDACAUENwY4JI3pwMAIBQw7RUE0X65mQAAISakAluZs+eLYfDobvuuqvWdq+++qo6deqk+Ph4XX755Xrvvfeap4PVYHMyAABCT0gEN5s2bdIzzzyjLl261Npu/fr1GjVqlH7+85/r448/1ogRIzRixAgVFxc3U08DsTkZAAChx/Lg5vjx4xo9erSeffZZJSUl1dr2iSee0NChQ/Xb3/5Wl112me6//3716NFDTz31VDP1NhCbkwEAEHosD26mTJmiYcOGadCgQXW2LSwsrNJuyJAhKiwsrPGcyspKud3ugJtZGro5mcdrqHD3Yb219YAKdx9mugoAgCCwdLXUokWLVFRUpE2bNtWrfXl5uVJTUwOOpaamqry8vMZz8vPzlZeX16R+1sS3OVl5xclq824cOlPquk9mG1ZUAQDQTCwbudm/f7+mTp2qF198UfHxwdt2PTc3VxUVFf7b/v37TXvu+m5OVrC9nBVVAAA0E8uCmy1btujQoUPq0aOHYmJiFBMTo9WrV+vJJ59UTEyMPB5PlXNcLpcOHjwYcOzgwYNyuVw1vk5cXJwSExMDbmaqa3OywVkuVlQBAMJauKVVWDYtdd1112nbtm0Bx2677TZ16tRJ99xzj6Kjo6uck5OTo+XLlwcsFy8oKFBOTk6wu1ur2jYnK9x9uN4rqiJx/w8AQGgLx7QKy4KbhIQEZWdnBxxr1aqV2rZt6z8+duxYnX/++crPz5ckTZ06VQMGDNBjjz2mYcOGadGiRdq8ebPmzp3b7P0/W02bk7GiCgAQrnyFas8ep/GlVcwZ0yMkAxzLV0vVprS0VGVl3+Wj9OvXTwsXLtTcuXPVtWtXvfbaa1q8eHGVICmUNHRFFQAAoSCcC9U6DMMIvV4FkdvtltPpVEVFhen5N9XxeA1d9fCKOldUrbtnIBttAgBCRuHuwxr17IY627008YpmSatoyPd3SI/c2EF9V1QR2AAAQkk4p1UQ3DSDulZUheJ8JQAgsoVzWoWlRfwiSW0rqgAACDUNKVQbaghumlFNK6oAAAg1vrSKyQuK5JACApxQT6tgWgoAAFQrXNMqGLkBAAA1Cse0CoIbAABQq3BLq2BaCgAA2ArBDQAAsBWCGwAAYCsENwAAwFYIbgAAgK0Q3AAAAFshuAEAALZCcAMAAGyF4AYAANhKxFUoNowzW3+53W6LewIAAOrL973t+x6vTcQFN8eOHZMkpaenW9wTAADQUMeOHZPT6ay1jcOoTwhkI16vV19++aUSEhLkcNRv0y+326309HTt379fiYmJQe4hfLju1uC6W4Prbg2uuzUac90Nw9CxY8fUrl07RUXVnlUTcSM3UVFRat++faPOTUxM5MNvAa67Nbju1uC6W4Prbo2GXve6Rmx8SCgGAAC2QnADAABsheCmHuLi4jRjxgzFxcVZ3ZWIwnW3BtfdGlx3a3DdrRHs6x5xCcUAAMDeGLkBAAC2QnADAABsheAGAADYCsENAACwFYKbevjb3/6mCy+8UPHx8erbt682btxodZdsZc2aNRo+fLjatWsnh8OhxYsXBzxuGIb++Mc/Ki0tTS1bttSgQYO0c+dOazprI/n5+erdu7cSEhKUkpKiESNGaMeOHQFtTp48qSlTpqht27Y699xz9eMf/1gHDx60qMf2MGfOHHXp0sVfvCwnJ0dLly71P841D77Zs2fL4XDorrvu8h/juptv5syZcjgcAbdOnTr5Hw/mNSe4qcPLL7+s6dOna8aMGSoqKlLXrl01ZMgQHTp0yOqu2cY333yjrl276m9/+1u1jz/yyCN68skn9fTTT+ujjz5Sq1atNGTIEJ08ebKZe2ovq1ev1pQpU7RhwwYVFBTo9OnT+sEPfqBvvvnG32batGlasmSJXn31Va1evVpffvmlbrzxRgt7Hf7at2+v2bNna8uWLdq8ebMGDhyoG264QZ9++qkkrnmwbdq0Sc8884y6dOkScJzrHhydO3dWWVmZ/7Zu3Tr/Y0G95gZq1adPH2PKlCn++x6Px2jXrp2Rn59vYa/sS5Lx5ptv+u97vV7D5XIZf/rTn/zHjh49asTFxRkvvfSSBT20r0OHDhmSjNWrVxuGceY6t2jRwnj11Vf9bf7zn/8YkozCwkKrumlLSUlJxnPPPcc1D7Jjx44Zl1xyiVFQUGAMGDDAmDp1qmEYfNaDZcaMGUbXrl2rfSzY15yRm1qcOnVKW7Zs0aBBg/zHoqKiNGjQIBUWFlrYs8hRUlKi8vLygH8Dp9Opvn378m9gsoqKCklSmzZtJElbtmzR6dOnA659p06ddMEFF3DtTeLxeLRo0SJ98803ysnJ4ZoH2ZQpUzRs2LCA6yvxWQ+mnTt3ql27drrooos0evRolZaWSgr+NY+4jTMb4quvvpLH41FqamrA8dTUVH322WcW9SqylJeXS1K1/wa+x9B0Xq9Xd911l6688kplZ2dLOnPtY2Nj1bp164C2XPum27Ztm3JycnTy5Emde+65evPNN5WVlaWtW7dyzYNk0aJFKioq0qZNm6o8xmc9OPr27av58+erY8eOKisrU15envr376/i4uKgX3OCGwCaMmWKiouLA+bDETwdO3bU1q1bVVFRoddee03jxo3T6tWrre6Wbe3fv19Tp05VQUGB4uPjre5OxLj++uv9/92lSxf17dtXGRkZeuWVV9SyZcugvjbTUrU477zzFB0dXSV7++DBg3K5XBb1KrL4rjP/BsFzxx136J133tHKlSvVvn17/3GXy6VTp07p6NGjAe259k0XGxuriy++WD179lR+fr66du2qJ554gmseJFu2bNGhQ4fUo0cPxcTEKCYmRqtXr9aTTz6pmJgYpaamct2bQevWrXXppZdq165dQf+sE9zUIjY2Vj179tTy5cv9x7xer5YvX66cnBwLexY5MjMz5XK5Av4N3G63PvroI/4NmsgwDN1xxx168803tWLFCmVmZgY83rNnT7Vo0SLg2u/YsUOlpaVce5N5vV5VVlZyzYPkuuuu07Zt27R161b/rVevXho9erT/v7nuwXf8+HHt3r1baWlpwf+sNzkl2eYWLVpkxMXFGfPnzze2b99u/OIXvzBat25tlJeXW9012zh27Jjx8ccfGx9//LEhyXj88ceNjz/+2Ni3b59hGIYxe/Zso3Xr1sZbb71l/Pvf/zZuuOEGIzMz0/j2228t7nl4mzx5suF0Oo1Vq1YZZWVl/tuJEyf8bSZNmmRccMEFxooVK4zNmzcbOTk5Rk5OjoW9Dn/33nuvsXr1aqOkpMT497//bdx7772Gw+Ew3n//fcMwuObN5furpQyD6x4Mv/nNb4xVq1YZJSUlxocffmgMGjTIOO+884xDhw4ZhhHca05wUw9//etfjQsuuMCIjY01+vTpY2zYsMHqLtnKypUrDUlVbuPGjTMM48xy8D/84Q9GamqqERcXZ1x33XXGjh07rO20DVR3zSUZ8+bN87f59ttvjV/96ldGUlKScc455xgjR440ysrKrOu0Ddx+++1GRkaGERsbayQnJxvXXXedP7AxDK55czk7uOG6m++WW24x0tLSjNjYWOP88883brnlFmPXrl3+x4N5zR2GYRhNH/8BAAAIDeTcAAAAWyG4AQAAtkJwAwAAbIXgBgAA2ArBDQAAsBWCGwAAYCsENwAAwFYIbgAAgK0Q3AAAAFshuAEAALYSY3UHAKCprrnmGnXp0kXx8fF67rnnFBsbq0mTJmnmzJlWdw2ABRi5AWALzz//vFq1aqWPPvpIjzzyiGbNmqWCggKruwXAAmycCSDsXXPNNfJ4PFq7dq3/WJ8+fTRw4EDNnj3bwp4BsAIjNwBsoUuXLgH309LSdOjQIYt6A8BKBDcAbKFFixYB9x0Oh7xer0W9AWAlghsAAGArBDcAAMBWCG4AAICtsFoKAADYCiM3AADAVghuAACArRDcAAAAWyG4AQAAtkJwAwAAbIXgBgAA2ArBDQAAsBWCGwAAYCsENwAAwFYIbgAAgK0Q3AAAAFshuAEAALby/wEMeTHtOyAqsQAAAABJRU5ErkJggg==\n"
                },
                "metadata": {}
              }
            ]
          }
        },
        "2846dfde7fcc4101b60a667f57c8f0c7": {
          "model_module": "@jupyter-widgets/base",
          "model_name": "LayoutModel",
          "model_module_version": "1.2.0",
          "state": {
            "_model_module": "@jupyter-widgets/base",
            "_model_module_version": "1.2.0",
            "_model_name": "LayoutModel",
            "_view_count": null,
            "_view_module": "@jupyter-widgets/base",
            "_view_module_version": "1.2.0",
            "_view_name": "LayoutView",
            "align_content": null,
            "align_items": null,
            "align_self": null,
            "border": null,
            "bottom": null,
            "display": null,
            "flex": null,
            "flex_flow": null,
            "grid_area": null,
            "grid_auto_columns": null,
            "grid_auto_flow": null,
            "grid_auto_rows": null,
            "grid_column": null,
            "grid_gap": null,
            "grid_row": null,
            "grid_template_areas": null,
            "grid_template_columns": null,
            "grid_template_rows": null,
            "height": null,
            "justify_content": null,
            "justify_items": null,
            "left": null,
            "margin": null,
            "max_height": null,
            "max_width": null,
            "min_height": null,
            "min_width": null,
            "object_fit": null,
            "object_position": null,
            "order": null,
            "overflow": null,
            "overflow_x": null,
            "overflow_y": null,
            "padding": null,
            "right": null,
            "top": null,
            "visibility": null,
            "width": null
          }
        },
        "b4b40725114e48778600a8a19bd5d45d": {
          "model_module": "@jupyter-widgets/base",
          "model_name": "LayoutModel",
          "model_module_version": "1.2.0",
          "state": {
            "_model_module": "@jupyter-widgets/base",
            "_model_module_version": "1.2.0",
            "_model_name": "LayoutModel",
            "_view_count": null,
            "_view_module": "@jupyter-widgets/base",
            "_view_module_version": "1.2.0",
            "_view_name": "LayoutView",
            "align_content": null,
            "align_items": null,
            "align_self": null,
            "border": null,
            "bottom": null,
            "display": null,
            "flex": null,
            "flex_flow": null,
            "grid_area": null,
            "grid_auto_columns": null,
            "grid_auto_flow": null,
            "grid_auto_rows": null,
            "grid_column": null,
            "grid_gap": null,
            "grid_row": null,
            "grid_template_areas": null,
            "grid_template_columns": null,
            "grid_template_rows": null,
            "height": null,
            "justify_content": null,
            "justify_items": null,
            "left": null,
            "margin": null,
            "max_height": null,
            "max_width": null,
            "min_height": null,
            "min_width": null,
            "object_fit": null,
            "object_position": null,
            "order": null,
            "overflow": null,
            "overflow_x": null,
            "overflow_y": null,
            "padding": null,
            "right": null,
            "top": null,
            "visibility": null,
            "width": null
          }
        },
        "a4cdfb0d83e54a3a9de31389c3677532": {
          "model_module": "@jupyter-widgets/controls",
          "model_name": "SliderStyleModel",
          "model_module_version": "1.5.0",
          "state": {
            "_model_module": "@jupyter-widgets/controls",
            "_model_module_version": "1.5.0",
            "_model_name": "SliderStyleModel",
            "_view_count": null,
            "_view_module": "@jupyter-widgets/base",
            "_view_module_version": "1.2.0",
            "_view_name": "StyleView",
            "description_width": "",
            "handle_color": null
          }
        },
        "b7366983bfca4a24ad619c3592c8a86e": {
          "model_module": "@jupyter-widgets/base",
          "model_name": "LayoutModel",
          "model_module_version": "1.2.0",
          "state": {
            "_model_module": "@jupyter-widgets/base",
            "_model_module_version": "1.2.0",
            "_model_name": "LayoutModel",
            "_view_count": null,
            "_view_module": "@jupyter-widgets/base",
            "_view_module_version": "1.2.0",
            "_view_name": "LayoutView",
            "align_content": null,
            "align_items": null,
            "align_self": null,
            "border": null,
            "bottom": null,
            "display": null,
            "flex": null,
            "flex_flow": null,
            "grid_area": null,
            "grid_auto_columns": null,
            "grid_auto_flow": null,
            "grid_auto_rows": null,
            "grid_column": null,
            "grid_gap": null,
            "grid_row": null,
            "grid_template_areas": null,
            "grid_template_columns": null,
            "grid_template_rows": null,
            "height": null,
            "justify_content": null,
            "justify_items": null,
            "left": null,
            "margin": null,
            "max_height": null,
            "max_width": null,
            "min_height": null,
            "min_width": null,
            "object_fit": null,
            "object_position": null,
            "order": null,
            "overflow": null,
            "overflow_x": null,
            "overflow_y": null,
            "padding": null,
            "right": null,
            "top": null,
            "visibility": null,
            "width": null
          }
        },
        "cc745c90dd484c6cb3be267a08398493": {
          "model_module": "@jupyter-widgets/controls",
          "model_name": "SliderStyleModel",
          "model_module_version": "1.5.0",
          "state": {
            "_model_module": "@jupyter-widgets/controls",
            "_model_module_version": "1.5.0",
            "_model_name": "SliderStyleModel",
            "_view_count": null,
            "_view_module": "@jupyter-widgets/base",
            "_view_module_version": "1.2.0",
            "_view_name": "StyleView",
            "description_width": "",
            "handle_color": null
          }
        },
        "95546301e1ed4a7c9845f0a161ef1926": {
          "model_module": "@jupyter-widgets/base",
          "model_name": "LayoutModel",
          "model_module_version": "1.2.0",
          "state": {
            "_model_module": "@jupyter-widgets/base",
            "_model_module_version": "1.2.0",
            "_model_name": "LayoutModel",
            "_view_count": null,
            "_view_module": "@jupyter-widgets/base",
            "_view_module_version": "1.2.0",
            "_view_name": "LayoutView",
            "align_content": null,
            "align_items": null,
            "align_self": null,
            "border": null,
            "bottom": null,
            "display": null,
            "flex": null,
            "flex_flow": null,
            "grid_area": null,
            "grid_auto_columns": null,
            "grid_auto_flow": null,
            "grid_auto_rows": null,
            "grid_column": null,
            "grid_gap": null,
            "grid_row": null,
            "grid_template_areas": null,
            "grid_template_columns": null,
            "grid_template_rows": null,
            "height": null,
            "justify_content": null,
            "justify_items": null,
            "left": null,
            "margin": null,
            "max_height": null,
            "max_width": null,
            "min_height": null,
            "min_width": null,
            "object_fit": null,
            "object_position": null,
            "order": null,
            "overflow": null,
            "overflow_x": null,
            "overflow_y": null,
            "padding": null,
            "right": null,
            "top": null,
            "visibility": null,
            "width": null
          }
        },
        "a0326ed39dd246b1b97eb41799d8de43": {
          "model_module": "@jupyter-widgets/controls",
          "model_name": "VBoxModel",
          "model_module_version": "1.5.0",
          "state": {
            "_dom_classes": [
              "widget-interact"
            ],
            "_model_module": "@jupyter-widgets/controls",
            "_model_module_version": "1.5.0",
            "_model_name": "VBoxModel",
            "_view_count": null,
            "_view_module": "@jupyter-widgets/controls",
            "_view_module_version": "1.5.0",
            "_view_name": "VBoxView",
            "box_style": "",
            "children": [
              "IPY_MODEL_3eeec66045284bc0a64d169e33a1f809",
              "IPY_MODEL_0bf1c40a7c1d4763b9ad96b8d033445c"
            ],
            "layout": "IPY_MODEL_17523ea125624103a1c9894f9c93553a"
          }
        },
        "3eeec66045284bc0a64d169e33a1f809": {
          "model_module": "@jupyter-widgets/controls",
          "model_name": "FloatSliderModel",
          "model_module_version": "1.5.0",
          "state": {
            "_dom_classes": [],
            "_model_module": "@jupyter-widgets/controls",
            "_model_module_version": "1.5.0",
            "_model_name": "FloatSliderModel",
            "_view_count": null,
            "_view_module": "@jupyter-widgets/controls",
            "_view_module_version": "1.5.0",
            "_view_name": "FloatSliderView",
            "continuous_update": true,
            "description": "x_hat",
            "description_tooltip": null,
            "disabled": false,
            "layout": "IPY_MODEL_691c35bbd4de41dd8b66021196f41f2c",
            "max": 1,
            "min": -1,
            "orientation": "horizontal",
            "readout": true,
            "readout_format": ".2f",
            "step": 0.1,
            "style": "IPY_MODEL_29be54d5f8c4498eb91a301353d193fd",
            "value": 0.5
          }
        },
        "0bf1c40a7c1d4763b9ad96b8d033445c": {
          "model_module": "@jupyter-widgets/output",
          "model_name": "OutputModel",
          "model_module_version": "1.0.0",
          "state": {
            "_dom_classes": [],
            "_model_module": "@jupyter-widgets/output",
            "_model_module_version": "1.0.0",
            "_model_name": "OutputModel",
            "_view_count": null,
            "_view_module": "@jupyter-widgets/output",
            "_view_module_version": "1.0.0",
            "_view_name": "OutputView",
            "layout": "IPY_MODEL_025168e8ac914cd9a53a283a6c5e1d9c",
            "msg_id": "",
            "outputs": [
              {
                "output_type": "display_data",
                "data": {
                  "text/plain": "<Figure size 1000x500 with 2 Axes>",
                  "image/png": "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\n"
                },
                "metadata": {}
              }
            ]
          }
        },
        "17523ea125624103a1c9894f9c93553a": {
          "model_module": "@jupyter-widgets/base",
          "model_name": "LayoutModel",
          "model_module_version": "1.2.0",
          "state": {
            "_model_module": "@jupyter-widgets/base",
            "_model_module_version": "1.2.0",
            "_model_name": "LayoutModel",
            "_view_count": null,
            "_view_module": "@jupyter-widgets/base",
            "_view_module_version": "1.2.0",
            "_view_name": "LayoutView",
            "align_content": null,
            "align_items": null,
            "align_self": null,
            "border": null,
            "bottom": null,
            "display": null,
            "flex": null,
            "flex_flow": null,
            "grid_area": null,
            "grid_auto_columns": null,
            "grid_auto_flow": null,
            "grid_auto_rows": null,
            "grid_column": null,
            "grid_gap": null,
            "grid_row": null,
            "grid_template_areas": null,
            "grid_template_columns": null,
            "grid_template_rows": null,
            "height": null,
            "justify_content": null,
            "justify_items": null,
            "left": null,
            "margin": null,
            "max_height": null,
            "max_width": null,
            "min_height": null,
            "min_width": null,
            "object_fit": null,
            "object_position": null,
            "order": null,
            "overflow": null,
            "overflow_x": null,
            "overflow_y": null,
            "padding": null,
            "right": null,
            "top": null,
            "visibility": null,
            "width": null
          }
        },
        "691c35bbd4de41dd8b66021196f41f2c": {
          "model_module": "@jupyter-widgets/base",
          "model_name": "LayoutModel",
          "model_module_version": "1.2.0",
          "state": {
            "_model_module": "@jupyter-widgets/base",
            "_model_module_version": "1.2.0",
            "_model_name": "LayoutModel",
            "_view_count": null,
            "_view_module": "@jupyter-widgets/base",
            "_view_module_version": "1.2.0",
            "_view_name": "LayoutView",
            "align_content": null,
            "align_items": null,
            "align_self": null,
            "border": null,
            "bottom": null,
            "display": null,
            "flex": null,
            "flex_flow": null,
            "grid_area": null,
            "grid_auto_columns": null,
            "grid_auto_flow": null,
            "grid_auto_rows": null,
            "grid_column": null,
            "grid_gap": null,
            "grid_row": null,
            "grid_template_areas": null,
            "grid_template_columns": null,
            "grid_template_rows": null,
            "height": null,
            "justify_content": null,
            "justify_items": null,
            "left": null,
            "margin": null,
            "max_height": null,
            "max_width": null,
            "min_height": null,
            "min_width": null,
            "object_fit": null,
            "object_position": null,
            "order": null,
            "overflow": null,
            "overflow_x": null,
            "overflow_y": null,
            "padding": null,
            "right": null,
            "top": null,
            "visibility": null,
            "width": null
          }
        },
        "29be54d5f8c4498eb91a301353d193fd": {
          "model_module": "@jupyter-widgets/controls",
          "model_name": "SliderStyleModel",
          "model_module_version": "1.5.0",
          "state": {
            "_model_module": "@jupyter-widgets/controls",
            "_model_module_version": "1.5.0",
            "_model_name": "SliderStyleModel",
            "_view_count": null,
            "_view_module": "@jupyter-widgets/base",
            "_view_module_version": "1.2.0",
            "_view_name": "StyleView",
            "description_width": "",
            "handle_color": null
          }
        },
        "025168e8ac914cd9a53a283a6c5e1d9c": {
          "model_module": "@jupyter-widgets/base",
          "model_name": "LayoutModel",
          "model_module_version": "1.2.0",
          "state": {
            "_model_module": "@jupyter-widgets/base",
            "_model_module_version": "1.2.0",
            "_model_name": "LayoutModel",
            "_view_count": null,
            "_view_module": "@jupyter-widgets/base",
            "_view_module_version": "1.2.0",
            "_view_name": "LayoutView",
            "align_content": null,
            "align_items": null,
            "align_self": null,
            "border": null,
            "bottom": null,
            "display": null,
            "flex": null,
            "flex_flow": null,
            "grid_area": null,
            "grid_auto_columns": null,
            "grid_auto_flow": null,
            "grid_auto_rows": null,
            "grid_column": null,
            "grid_gap": null,
            "grid_row": null,
            "grid_template_areas": null,
            "grid_template_columns": null,
            "grid_template_rows": null,
            "height": null,
            "justify_content": null,
            "justify_items": null,
            "left": null,
            "margin": null,
            "max_height": null,
            "max_width": null,
            "min_height": null,
            "min_width": null,
            "object_fit": null,
            "object_position": null,
            "order": null,
            "overflow": null,
            "overflow_x": null,
            "overflow_y": null,
            "padding": null,
            "right": null,
            "top": null,
            "visibility": null,
            "width": null
          }
        },
        "c852a45d30e6417394fdadbf62b5f1a5": {
          "model_module": "@jupyter-widgets/controls",
          "model_name": "VBoxModel",
          "model_module_version": "1.5.0",
          "state": {
            "_dom_classes": [
              "widget-interact"
            ],
            "_model_module": "@jupyter-widgets/controls",
            "_model_module_version": "1.5.0",
            "_model_name": "VBoxModel",
            "_view_count": null,
            "_view_module": "@jupyter-widgets/controls",
            "_view_module_version": "1.5.0",
            "_view_name": "VBoxView",
            "box_style": "",
            "children": [
              "IPY_MODEL_c08da49c549049529951c0f936187588",
              "IPY_MODEL_37a27120641f498b8437f3955f1193c9"
            ],
            "layout": "IPY_MODEL_c6e5df65ffd6486a81e0f92f34bf4de9"
          }
        },
        "c08da49c549049529951c0f936187588": {
          "model_module": "@jupyter-widgets/controls",
          "model_name": "FloatSliderModel",
          "model_module_version": "1.5.0",
          "state": {
            "_dom_classes": [],
            "_model_module": "@jupyter-widgets/controls",
            "_model_module_version": "1.5.0",
            "_model_name": "FloatSliderModel",
            "_view_count": null,
            "_view_module": "@jupyter-widgets/controls",
            "_view_module_version": "1.5.0",
            "_view_name": "FloatSliderView",
            "continuous_update": true,
            "description": "a_value",
            "description_tooltip": null,
            "disabled": false,
            "layout": "IPY_MODEL_1cf0e32bf07b42aba521ac7256ebce34",
            "max": 320,
            "min": 240,
            "orientation": "horizontal",
            "readout": true,
            "readout_format": ".2f",
            "step": 10,
            "style": "IPY_MODEL_d654949a48de4ba68002be6ede792660",
            "value": 320
          }
        },
        "37a27120641f498b8437f3955f1193c9": {
          "model_module": "@jupyter-widgets/output",
          "model_name": "OutputModel",
          "model_module_version": "1.0.0",
          "state": {
            "_dom_classes": [],
            "_model_module": "@jupyter-widgets/output",
            "_model_module_version": "1.0.0",
            "_model_name": "OutputModel",
            "_view_count": null,
            "_view_module": "@jupyter-widgets/output",
            "_view_module_version": "1.0.0",
            "_view_name": "OutputView",
            "layout": "IPY_MODEL_e538877bfdf54670aa895d38df91ce3a",
            "msg_id": "",
            "outputs": [
              {
                "output_type": "display_data",
                "data": {
                  "text/plain": "<Figure size 640x480 with 2 Axes>",
                  "image/png": "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\n"
                },
                "metadata": {}
              }
            ]
          }
        },
        "c6e5df65ffd6486a81e0f92f34bf4de9": {
          "model_module": "@jupyter-widgets/base",
          "model_name": "LayoutModel",
          "model_module_version": "1.2.0",
          "state": {
            "_model_module": "@jupyter-widgets/base",
            "_model_module_version": "1.2.0",
            "_model_name": "LayoutModel",
            "_view_count": null,
            "_view_module": "@jupyter-widgets/base",
            "_view_module_version": "1.2.0",
            "_view_name": "LayoutView",
            "align_content": null,
            "align_items": null,
            "align_self": null,
            "border": null,
            "bottom": null,
            "display": null,
            "flex": null,
            "flex_flow": null,
            "grid_area": null,
            "grid_auto_columns": null,
            "grid_auto_flow": null,
            "grid_auto_rows": null,
            "grid_column": null,
            "grid_gap": null,
            "grid_row": null,
            "grid_template_areas": null,
            "grid_template_columns": null,
            "grid_template_rows": null,
            "height": null,
            "justify_content": null,
            "justify_items": null,
            "left": null,
            "margin": null,
            "max_height": null,
            "max_width": null,
            "min_height": null,
            "min_width": null,
            "object_fit": null,
            "object_position": null,
            "order": null,
            "overflow": null,
            "overflow_x": null,
            "overflow_y": null,
            "padding": null,
            "right": null,
            "top": null,
            "visibility": null,
            "width": null
          }
        },
        "1cf0e32bf07b42aba521ac7256ebce34": {
          "model_module": "@jupyter-widgets/base",
          "model_name": "LayoutModel",
          "model_module_version": "1.2.0",
          "state": {
            "_model_module": "@jupyter-widgets/base",
            "_model_module_version": "1.2.0",
            "_model_name": "LayoutModel",
            "_view_count": null,
            "_view_module": "@jupyter-widgets/base",
            "_view_module_version": "1.2.0",
            "_view_name": "LayoutView",
            "align_content": null,
            "align_items": null,
            "align_self": null,
            "border": null,
            "bottom": null,
            "display": null,
            "flex": null,
            "flex_flow": null,
            "grid_area": null,
            "grid_auto_columns": null,
            "grid_auto_flow": null,
            "grid_auto_rows": null,
            "grid_column": null,
            "grid_gap": null,
            "grid_row": null,
            "grid_template_areas": null,
            "grid_template_columns": null,
            "grid_template_rows": null,
            "height": null,
            "justify_content": null,
            "justify_items": null,
            "left": null,
            "margin": null,
            "max_height": null,
            "max_width": null,
            "min_height": null,
            "min_width": null,
            "object_fit": null,
            "object_position": null,
            "order": null,
            "overflow": null,
            "overflow_x": null,
            "overflow_y": null,
            "padding": null,
            "right": null,
            "top": null,
            "visibility": null,
            "width": null
          }
        },
        "d654949a48de4ba68002be6ede792660": {
          "model_module": "@jupyter-widgets/controls",
          "model_name": "SliderStyleModel",
          "model_module_version": "1.5.0",
          "state": {
            "_model_module": "@jupyter-widgets/controls",
            "_model_module_version": "1.5.0",
            "_model_name": "SliderStyleModel",
            "_view_count": null,
            "_view_module": "@jupyter-widgets/base",
            "_view_module_version": "1.2.0",
            "_view_name": "StyleView",
            "description_width": "",
            "handle_color": null
          }
        },
        "e538877bfdf54670aa895d38df91ce3a": {
          "model_module": "@jupyter-widgets/base",
          "model_name": "LayoutModel",
          "model_module_version": "1.2.0",
          "state": {
            "_model_module": "@jupyter-widgets/base",
            "_model_module_version": "1.2.0",
            "_model_name": "LayoutModel",
            "_view_count": null,
            "_view_module": "@jupyter-widgets/base",
            "_view_module_version": "1.2.0",
            "_view_name": "LayoutView",
            "align_content": null,
            "align_items": null,
            "align_self": null,
            "border": null,
            "bottom": null,
            "display": null,
            "flex": null,
            "flex_flow": null,
            "grid_area": null,
            "grid_auto_columns": null,
            "grid_auto_flow": null,
            "grid_auto_rows": null,
            "grid_column": null,
            "grid_gap": null,
            "grid_row": null,
            "grid_template_areas": null,
            "grid_template_columns": null,
            "grid_template_rows": null,
            "height": null,
            "justify_content": null,
            "justify_items": null,
            "left": null,
            "margin": null,
            "max_height": null,
            "max_width": null,
            "min_height": null,
            "min_width": null,
            "object_fit": null,
            "object_position": null,
            "order": null,
            "overflow": null,
            "overflow_x": null,
            "overflow_y": null,
            "padding": null,
            "right": null,
            "top": null,
            "visibility": null,
            "width": null
          }
        }
      }
    }
  },
  "cells": [
    {
      "cell_type": "markdown",
      "metadata": {
        "id": "view-in-github",
        "colab_type": "text"
      },
      "source": [
        "<a href=\"https://colab.research.google.com/github/pakocica/rgs_math_prep_2024/blob/main/Introductory_Math_Quiz.ipynb\" target=\"_parent\"><img src=\"https://colab.research.google.com/assets/colab-badge.svg\" alt=\"Open In Colab\"/></a>"
      ]
    },
    {
      "cell_type": "markdown",
      "source": [
        "# 🧩 _Math Prep – Exercise_\n",
        "\n",
        "### Author: [Pavel Kocourek](https://www.pkocourek.com/)\n",
        "\n",
        "---\n",
        "\n",
        "## Introductory Math Quiz\n",
        "\n",
        "---\n",
        "---"
      ],
      "metadata": {
        "id": "ACrF21DZMFiz"
      }
    },
    {
      "cell_type": "markdown",
      "source": [
        "### Problem 1\n",
        "\n",
        "Consider the sequence defined by the approximation formula\n",
        "$$\n",
        "  a_n = 3 + n - \\frac{n^2 + c^n }{n + 3}, \\quad n \\in \\mathbb{N},\n",
        "$$\n",
        "where $c \\in \\mathbb{R}$ is a parameter.\n",
        "\n",
        "a. Does the sequence converge for $c=0$?\n",
        "\n",
        "b. For which values of $c$ does this sequence converge to a finite limit?"
      ],
      "metadata": {
        "id": "Z_UcISwZYxaw"
      }
    },
    {
      "cell_type": "markdown",
      "source": [
        "---\n",
        "\n",
        "### Problem 2\n",
        "\n",
        "A newly formed political party named the \"Cynically Democratic Party\" is deciding where to position itself on the left-right political spectrum, represented by the variable $x \\in [-1, 1]$. The party aims to balance the trade-offs between being close to the median voter, $\\hat{x}$, and attracting radical supporters. The party's popularity is given by the function $V(x) = -|x - \\hat{x}| + x^2$.\n",
        "\n",
        "a. Where should the party position itself if $\\hat{x} = 0$?\n",
        "\n",
        "b. Discuss how the optimal position of the party varies with changes in $\\hat{x}$."
      ],
      "metadata": {
        "id": "vSnlmChKrxY3"
      }
    },
    {
      "cell_type": "markdown",
      "source": [
        "---\n",
        "\n",
        "### Problem 3\n",
        "\n",
        "A car manufacturer needs to decide how powerful an engine to equip their car with. The firm's profit, based on engine power, is given by the function $\\Pi(x) = 240x - x^2$, where $x$ represents the engine's power. Given the technology used, the car produces emissions according to the function $e(x) = 10x + x^2$. Regulations require that emissions must be strictly less than 24,000.\n",
        "\n",
        "a. What engine power should the firm choose to maximize profit while complying with emission regulations?\n",
        "\n",
        "b. If the profit function for the next car model is $\\Pi(x) = 320x - x^2$, what should the firm choose for the engine power in this case?"
      ],
      "metadata": {
        "id": "rB1IHvnPd9y2"
      }
    },
    {
      "cell_type": "markdown",
      "source": [
        "---\n",
        "\n",
        "### Problem 4\n",
        "\n",
        "A chef is preparing the Universal Brown Sauce. For each liter of sauce, he uses $x$ grams of salt and $y$ grams of concentrate. The chef's skill lies in choosing the right amounts to match consumers' preferences for saltiness $u$ and density $v$, where the desired value for both is $100$. Over time, the chef makes the following observations:\n",
        "\n",
        "- The characteristics $u = u(x, y)$ and $v = v(x, y)$ are linear in $x$ and $y$ with no intercept, meaning that $u(0,0) = 0$ and $v(0,0) = 0$.\n",
        "- $u(20, 80) = 140$, $v(20, 80) = 86$\n",
        "- $u(0, 120) = 60$, $v(0, 120) = 114$\n",
        "\n",
        "Given these observations:\n",
        "\n",
        "a. Find the formulas for the functions $u(x, y)$ and $v(x, y)$.\n",
        "\n",
        "b. What values of $x$ and $y$ should the chef use to achieve the desired saltiness and density?"
      ],
      "metadata": {
        "id": "SPwWAhf-xJQw"
      }
    },
    {
      "cell_type": "markdown",
      "source": [
        "---\n",
        "---\n",
        "\n",
        "## Solutions\n",
        "\n",
        "(Run the following cells one by one to make the figures interactive.)"
      ],
      "metadata": {
        "id": "w9pz7oAcL-KO"
      }
    },
    {
      "cell_type": "code",
      "source": [
        "#@title Import Libraries\n",
        "\n",
        "import matplotlib.pyplot as plt\n",
        "import numpy as np\n",
        "import sympy as sp\n",
        "from ipywidgets import interact, widgets\n",
        "from IPython.display import Markdown"
      ],
      "metadata": {
        "cellView": "form",
        "id": "U2i29YX6PG6R"
      },
      "execution_count": null,
      "outputs": []
    },
    {
      "cell_type": "code",
      "source": [
        "#@title Problem 1\n",
        "# prompt: Plot the sequence from the previous example for a chosen value of c\n",
        "\n",
        "c = 1.01\n",
        "n_max = 10\n",
        "\n",
        "def plot_series(c, n_max):\n",
        "    n = np.arange(1, n_max)\n",
        "    a = 3 + n - (n**2 + c**n) / (n + 3)\n",
        "\n",
        "    # Plot the sequence\n",
        "    plt.scatter(n, a)\n",
        "    plt.xlabel(\"n\")\n",
        "    plt.ylabel(\"a_n\")\n",
        "    plt.title(f\"Sequence with c = {c}\")\n",
        "    plt.show()\n",
        "\n",
        "interact(plot_series,\n",
        "         c     = widgets.FloatSlider(min=-2, max=2, step=0.1, value=0),\n",
        "         n_max = widgets.FloatSlider(min=50, max=1000, step=50, value=10));"
      ],
      "metadata": {
        "colab": {
          "base_uri": "https://localhost:8080/",
          "height": 536,
          "referenced_widgets": [
            "4564ae63d29a45bc8963ea6832773f7f",
            "4d5694b4fe7c4de8a1a00288bc18665c",
            "4a4267969dc04eb692744a08fa66491b",
            "7dd88f53dd2e44358aa78eaaa2e7dac5",
            "2846dfde7fcc4101b60a667f57c8f0c7",
            "b4b40725114e48778600a8a19bd5d45d",
            "a4cdfb0d83e54a3a9de31389c3677532",
            "b7366983bfca4a24ad619c3592c8a86e",
            "cc745c90dd484c6cb3be267a08398493",
            "95546301e1ed4a7c9845f0a161ef1926"
          ]
        },
        "cellView": "form",
        "id": "pXXRAVGFbbbm",
        "outputId": "7f84054e-a0a6-4412-f7b4-e0fc6c864099"
      },
      "execution_count": null,
      "outputs": [
        {
          "output_type": "display_data",
          "data": {
            "text/plain": [
              "interactive(children=(FloatSlider(value=0.0, description='c', max=2.0, min=-2.0), FloatSlider(value=50.0, desc…"
            ],
            "application/vnd.jupyter.widget-view+json": {
              "version_major": 2,
              "version_minor": 0,
              "model_id": "4564ae63d29a45bc8963ea6832773f7f"
            }
          },
          "metadata": {}
        }
      ]
    },
    {
      "cell_type": "code",
      "source": [
        "#@title Problem 2\n",
        "\n",
        "def plot_functions(x_hat):\n",
        "    \"\"\"Plots the components of V(x) and V(x) itself.\"\"\"\n",
        "    x = np.linspace(-1, 1, 400)\n",
        "    y1 = abs(x - x_hat)\n",
        "    y2 = x**2\n",
        "    y3 = -y1 + y2\n",
        "\n",
        "    fig, (ax1, ax2) = plt.subplots(1, 2, figsize=(10, 5))\n",
        "\n",
        "    ax1.plot(x, y1, label=r'$|x - \\hat{x}|$')\n",
        "    ax1.plot(x, y2, label=r'$x^2$')\n",
        "    ax1.set_xlabel('x')\n",
        "    ax1.set_ylabel('y')\n",
        "    ax1.set_title(r'Components of $V(x)$ with $\\hat{x}$ = ' + '{}'.format(x_hat))\n",
        "    ax1.legend()\n",
        "\n",
        "    ax2.plot(x, y3)\n",
        "    ax2.set_xlabel('x')\n",
        "    ax2.set_ylabel('V(x)')\n",
        "    ax2.set_title(r'V(x) with $\\hat{x}$ = ' + '{}'.format(x_hat))\n",
        "\n",
        "    # adjust the spacing between subplots\n",
        "    plt.subplots_adjust(wspace=0.4)\n",
        "    plt.show()\n",
        "\n",
        "interact(plot_functions, x_hat=widgets.FloatSlider(min=-1, max=1, step=0.1, value=0));"
      ],
      "metadata": {
        "colab": {
          "base_uri": "https://localhost:8080/",
          "height": 524,
          "referenced_widgets": [
            "a0326ed39dd246b1b97eb41799d8de43",
            "3eeec66045284bc0a64d169e33a1f809",
            "0bf1c40a7c1d4763b9ad96b8d033445c",
            "17523ea125624103a1c9894f9c93553a",
            "691c35bbd4de41dd8b66021196f41f2c",
            "29be54d5f8c4498eb91a301353d193fd",
            "025168e8ac914cd9a53a283a6c5e1d9c"
          ]
        },
        "cellView": "form",
        "id": "HpTV_9IFA_h-",
        "outputId": "0a6b29ae-c544-4168-9686-dc8334672402"
      },
      "execution_count": null,
      "outputs": [
        {
          "output_type": "display_data",
          "data": {
            "text/plain": [
              "interactive(children=(FloatSlider(value=0.0, description='x_hat', max=1.0, min=-1.0), Output()), _dom_classes=…"
            ],
            "application/vnd.jupyter.widget-view+json": {
              "version_major": 2,
              "version_minor": 0,
              "model_id": "a0326ed39dd246b1b97eb41799d8de43"
            }
          },
          "metadata": {}
        }
      ]
    },
    {
      "cell_type": "code",
      "source": [
        "#@title Problem 3\n",
        "\n",
        "x, a = sp.symbols('x a', positive = True)\n",
        "\n",
        "profit = a * x - x**2\n",
        "\n",
        "emissions = 10 * x + x**2\n",
        "emissions_max = 24000\n",
        "\n",
        "x_max = sp.solve(emissions - 24000, x)[0]\n",
        "\n",
        "# print('x_max:')\n",
        "# display(x_max)\n",
        "\n",
        "def plot_functions(a_value):\n",
        "\n",
        "    # create lambda function for plotting\n",
        "    profit_f = sp.lambdify(x, profit.subs(a, a_value), 'numpy')\n",
        "    emissions_f = sp.lambdify(x, emissions, 'numpy')\n",
        "\n",
        "    # generate x values\n",
        "    x_vals = np.linspace(0, float(x_max), 100)\n",
        "\n",
        "    # create the subplots\n",
        "    fig, (ax1, ax2) = plt.subplots(1, 2)\n",
        "\n",
        "    # plot the profit\n",
        "    ax1.plot(x_vals, profit_f(x_vals))\n",
        "    ax1.set_ylim(top=26000)\n",
        "    ax1.set_ylabel('$\\Pi$')\n",
        "    ax1.set_xlabel('$x$')\n",
        "    ax1.set_title('Profit')\n",
        "\n",
        "    # plot the emissions\n",
        "    ax2.plot(x_vals, emissions_f(x_vals))\n",
        "    ax2.plot([0, float(x_max)],[emissions_max, emissions_max])\n",
        "    ax2.set_ylabel('$e$')\n",
        "    ax2.set_xlabel('$x$')\n",
        "    ax2.set_title('Emissions')\n",
        "\n",
        "    # adjust the spacing between subplots\n",
        "    plt.subplots_adjust(wspace=0.5)\n",
        "\n",
        "    plt.show()\n",
        "\n",
        "display(Markdown('$\\Pi(x) = a x - x^2$'))\n",
        "\n",
        "interact(plot_functions, a_value=widgets.FloatSlider(min=240, max=320, step=10, value=240));"
      ],
      "metadata": {
        "colab": {
          "base_uri": "https://localhost:8080/",
          "height": 537,
          "referenced_widgets": [
            "c852a45d30e6417394fdadbf62b5f1a5",
            "c08da49c549049529951c0f936187588",
            "37a27120641f498b8437f3955f1193c9",
            "c6e5df65ffd6486a81e0f92f34bf4de9",
            "1cf0e32bf07b42aba521ac7256ebce34",
            "d654949a48de4ba68002be6ede792660",
            "e538877bfdf54670aa895d38df91ce3a"
          ]
        },
        "cellView": "form",
        "id": "tMDCydn4b1HY",
        "outputId": "6a2c8239-4530-43bd-c5b8-f12dd6131540"
      },
      "execution_count": null,
      "outputs": [
        {
          "output_type": "display_data",
          "data": {
            "text/plain": [
              "<IPython.core.display.Markdown object>"
            ],
            "text/markdown": "$\\Pi(x) = a x - x^2$"
          },
          "metadata": {}
        },
        {
          "output_type": "display_data",
          "data": {
            "text/plain": [
              "interactive(children=(FloatSlider(value=240.0, description='a_value', max=320.0, min=240.0, step=10.0), Output…"
            ],
            "application/vnd.jupyter.widget-view+json": {
              "version_major": 2,
              "version_minor": 0,
              "model_id": "c852a45d30e6417394fdadbf62b5f1a5"
            }
          },
          "metadata": {}
        }
      ]
    },
    {
      "cell_type": "code",
      "source": [
        "#@title Problem 4\n",
        "\n",
        "# Define the provided values matrix X_0 (x and y)\n",
        "X_0 = np.array([\n",
        "    [20, 80],\n",
        "    [0, 120]\n",
        "])\n",
        "\n",
        "# Define the provided values matrix Y_0 (u and v)\n",
        "Y_0 = np.array([\n",
        "    [140, 86],\n",
        "    [60, 114]\n",
        "])\n",
        "\n",
        "# Compute the inverse of X_0\n",
        "X_0_inv = np.linalg.inv(X_0)\n",
        "\n",
        "# Find matrix A (coefficients matrix) using matrix division\n",
        "A = np.dot(X_0_inv, Y_0)\n",
        "\n",
        "# Display matrix A\n",
        "print(\"Matrix A (coefficients of [u,v] as a function of [x,y]):\")\n",
        "print(A)\n",
        "print(\"\")\n",
        "\n",
        "# Interpretation of matrix A as formulas for u(x, y) and v(x, y)\n",
        "a, b = A[0, 0], A[0, 1]\n",
        "c, d = A[1, 0], A[1, 1]\n",
        "\n",
        "print(\"\\nFormulas derived from matrix A:\")\n",
        "print(f\"u(x, y) = {a:.2f} * x + {b:.2f} * y\")\n",
        "print(f\"v(x, y) = {c:.2f} * x + {d:.2f} * y\")\n",
        "print(\"\")\n",
        "\n",
        "# Desired values for u and v\n",
        "Y = np.array([100, 100])\n",
        "\n",
        "# Solve for X using the inverse of matrix A\n",
        "A_inv = np.linalg.inv(A)\n",
        "\n",
        "# Compute X using matrix multiplication\n",
        "X = np.dot(Y, A_inv)\n",
        "\n",
        "# Display the results for x and y\n",
        "x_optimal, y_optimal = X\n",
        "print(f\"Optimal x (grams of salt): \\t\\t {x_optimal:6.2f}\")\n",
        "print(f\"Optimal y (grams of concentrate): \\t {y_optimal:6.2f}\")\n"
      ],
      "metadata": {
        "colab": {
          "base_uri": "https://localhost:8080/"
        },
        "cellView": "form",
        "id": "G2L0Mpt1n3Jd",
        "outputId": "4e77f6a3-d530-45bb-873d-467a8cfb00d7"
      },
      "execution_count": null,
      "outputs": [
        {
          "output_type": "stream",
          "name": "stdout",
          "text": [
            "Matrix A (coefficients of [u,v] as a function of [x,y]):\n",
            "[[5.   0.5 ]\n",
            " [0.5  0.95]]\n",
            "\n",
            "\n",
            "Formulas derived from matrix A:\n",
            "u(x, y) = 5.00 * x + 0.50 * y\n",
            "v(x, y) = 0.50 * x + 0.95 * y\n",
            "\n",
            "Optimal x (grams of salt): \t\t  10.00\n",
            "Optimal y (grams of concentrate): \t 100.00\n"
          ]
        }
      ]
    }
  ]
}